{
 "cells": [
  {
   "cell_type": "code",
   "execution_count": null,
   "id": "6ba300a3",
   "metadata": {},
   "outputs": [],
   "source": [
    "import pandas as pd\n",
    "import numpy as np\n",
    "from sklearn.datasets import load_breast_cancer\n",
    "\n",
    "# Memuat dataset\n",
    "cancer = load_breast_cancer()\n",
    "\n",
    "# Membuat DataFrame Pandas\n",
    "# Fitur (X) adalah datanya, dan target (y) adalah diagnosisnya\n",
    "df = pd.DataFrame(data=cancer.data, columns=cancer.feature_names)\n",
    "df['diagnosis'] = cancer.target\n",
    "\n",
    "# Mengganti target numerik (0, 1) dengan label yang lebih deskriptif\n",
    "# Dalam dataset ini: 0 = Malignant (ganas), 1 = Benign (jinak)\n",
    "df['diagnosis'] = df['diagnosis'].map({0: 'Malignant', 1: 'Benign'})\n",
    "\n",
    "# Menampilkan 5 baris pertama data\n",
    "print(\"Lima baris pertama dataset:\")\n",
    "print(df.head())\n",
    "\n",
    "# Menampilkan informasi ringkas tentang dataset\n",
    "print(\"\\nInformasi Umum DataFrame:\")\n",
    "df.info()"
   ]
  }
 ],
 "metadata": {
  "language_info": {
   "name": "python"
  }
 },
 "nbformat": 4,
 "nbformat_minor": 5
}
