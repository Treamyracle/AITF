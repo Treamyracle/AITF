{
 "cells": [
  {
   "cell_type": "code",
   "execution_count": 1,
   "id": "b35d3683",
   "metadata": {},
   "outputs": [
    {
     "name": "stdout",
     "output_type": "stream",
     "text": [
      "Data siap untuk analisis korelasi dan pemodelan.\n",
      "   hours_studied  sleep_hours  attendance_percent  previous_scores  exam_score\n",
      "0            8.0          8.8                72.1               45        30.2\n",
      "1            1.3          8.6                60.7               55        25.0\n",
      "2            4.0          8.2                73.7               86        35.8\n",
      "3            3.5          4.8                95.1               66        34.0\n",
      "4            9.1          6.4                89.8               71        40.3\n"
     ]
    },
    {
     "name": "stderr",
     "output_type": "stream",
     "text": [
      "C:\\Users\\tream\\AppData\\Local\\Temp\\ipykernel_19288\\3154193313.py:10: FutureWarning: A value is trying to be set on a copy of a DataFrame or Series through chained assignment using an inplace method.\n",
      "The behavior will change in pandas 3.0. This inplace method will never work because the intermediate object on which we are setting values always behaves as a copy.\n",
      "\n",
      "For example, when doing 'df[col].method(value, inplace=True)', try using 'df.method({col: value}, inplace=True)' or df[col] = df[col].method(value) instead, to perform the operation inplace on the original object.\n",
      "\n",
      "\n",
      "  df['previous_scores'].fillna(median_previous_scores, inplace=True)\n"
     ]
    }
   ],
   "source": [
    "import pandas as pd\n",
    "import numpy as np\n",
    "\n",
    "# Memuat dataset dari URL\n",
    "url = 'https://raw.githubusercontent.com/Treamyracle/AITF/refs/heads/main/%231%20Data%20Scraping/student_exam_scores.csv'\n",
    "df = pd.read_csv(url)\n",
    "\n",
    "# Mengisi nilai yang hilang pada 'previous_scores' dengan median\n",
    "median_previous_scores = df['previous_scores'].median()\n",
    "df['previous_scores'].fillna(median_previous_scores, inplace=True)\n",
    "\n",
    "# Menghapus kolom ID yang tidak relevan untuk pemodelan\n",
    "df_model = df.drop('student_id', axis=1)\n",
    "\n",
    "print(\"Data siap untuk analisis korelasi dan pemodelan.\")\n",
    "print(df_model.head())"
   ]
  },
  {
   "cell_type": "code",
   "execution_count": 3,
   "id": "f1067efb",
   "metadata": {},
   "outputs": [
    {
     "data": {
      "text/html": [
       "<div>\n",
       "<style scoped>\n",
       "    .dataframe tbody tr th:only-of-type {\n",
       "        vertical-align: middle;\n",
       "    }\n",
       "\n",
       "    .dataframe tbody tr th {\n",
       "        vertical-align: top;\n",
       "    }\n",
       "\n",
       "    .dataframe thead th {\n",
       "        text-align: right;\n",
       "    }\n",
       "</style>\n",
       "<table border=\"1\" class=\"dataframe\">\n",
       "  <thead>\n",
       "    <tr style=\"text-align: right;\">\n",
       "      <th></th>\n",
       "      <th>hours_studied</th>\n",
       "      <th>sleep_hours</th>\n",
       "      <th>attendance_percent</th>\n",
       "      <th>previous_scores</th>\n",
       "      <th>exam_score</th>\n",
       "    </tr>\n",
       "  </thead>\n",
       "  <tbody>\n",
       "    <tr>\n",
       "      <th>0</th>\n",
       "      <td>8.0</td>\n",
       "      <td>8.8</td>\n",
       "      <td>72.1</td>\n",
       "      <td>45</td>\n",
       "      <td>30.2</td>\n",
       "    </tr>\n",
       "    <tr>\n",
       "      <th>1</th>\n",
       "      <td>1.3</td>\n",
       "      <td>8.6</td>\n",
       "      <td>60.7</td>\n",
       "      <td>55</td>\n",
       "      <td>25.0</td>\n",
       "    </tr>\n",
       "    <tr>\n",
       "      <th>2</th>\n",
       "      <td>4.0</td>\n",
       "      <td>8.2</td>\n",
       "      <td>73.7</td>\n",
       "      <td>86</td>\n",
       "      <td>35.8</td>\n",
       "    </tr>\n",
       "    <tr>\n",
       "      <th>3</th>\n",
       "      <td>3.5</td>\n",
       "      <td>4.8</td>\n",
       "      <td>95.1</td>\n",
       "      <td>66</td>\n",
       "      <td>34.0</td>\n",
       "    </tr>\n",
       "    <tr>\n",
       "      <th>4</th>\n",
       "      <td>9.1</td>\n",
       "      <td>6.4</td>\n",
       "      <td>89.8</td>\n",
       "      <td>71</td>\n",
       "      <td>40.3</td>\n",
       "    </tr>\n",
       "    <tr>\n",
       "      <th>...</th>\n",
       "      <td>...</td>\n",
       "      <td>...</td>\n",
       "      <td>...</td>\n",
       "      <td>...</td>\n",
       "      <td>...</td>\n",
       "    </tr>\n",
       "    <tr>\n",
       "      <th>195</th>\n",
       "      <td>10.5</td>\n",
       "      <td>5.4</td>\n",
       "      <td>94.0</td>\n",
       "      <td>87</td>\n",
       "      <td>42.7</td>\n",
       "    </tr>\n",
       "    <tr>\n",
       "      <th>196</th>\n",
       "      <td>7.1</td>\n",
       "      <td>6.1</td>\n",
       "      <td>85.1</td>\n",
       "      <td>92</td>\n",
       "      <td>40.4</td>\n",
       "    </tr>\n",
       "    <tr>\n",
       "      <th>197</th>\n",
       "      <td>1.6</td>\n",
       "      <td>6.9</td>\n",
       "      <td>63.8</td>\n",
       "      <td>76</td>\n",
       "      <td>28.2</td>\n",
       "    </tr>\n",
       "    <tr>\n",
       "      <th>198</th>\n",
       "      <td>12.0</td>\n",
       "      <td>7.3</td>\n",
       "      <td>50.5</td>\n",
       "      <td>58</td>\n",
       "      <td>42.0</td>\n",
       "    </tr>\n",
       "    <tr>\n",
       "      <th>199</th>\n",
       "      <td>10.2</td>\n",
       "      <td>6.3</td>\n",
       "      <td>97.4</td>\n",
       "      <td>68</td>\n",
       "      <td>37.8</td>\n",
       "    </tr>\n",
       "  </tbody>\n",
       "</table>\n",
       "<p>200 rows × 5 columns</p>\n",
       "</div>"
      ],
      "text/plain": [
       "     hours_studied  sleep_hours  attendance_percent  previous_scores  \\\n",
       "0              8.0          8.8                72.1               45   \n",
       "1              1.3          8.6                60.7               55   \n",
       "2              4.0          8.2                73.7               86   \n",
       "3              3.5          4.8                95.1               66   \n",
       "4              9.1          6.4                89.8               71   \n",
       "..             ...          ...                 ...              ...   \n",
       "195           10.5          5.4                94.0               87   \n",
       "196            7.1          6.1                85.1               92   \n",
       "197            1.6          6.9                63.8               76   \n",
       "198           12.0          7.3                50.5               58   \n",
       "199           10.2          6.3                97.4               68   \n",
       "\n",
       "     exam_score  \n",
       "0          30.2  \n",
       "1          25.0  \n",
       "2          35.8  \n",
       "3          34.0  \n",
       "4          40.3  \n",
       "..          ...  \n",
       "195        42.7  \n",
       "196        40.4  \n",
       "197        28.2  \n",
       "198        42.0  \n",
       "199        37.8  \n",
       "\n",
       "[200 rows x 5 columns]"
      ]
     },
     "execution_count": 3,
     "metadata": {},
     "output_type": "execute_result"
    }
   ],
   "source": [
    "df_model "
   ]
  },
  {
   "cell_type": "code",
   "execution_count": 2,
   "id": "d1495e45",
   "metadata": {},
   "outputs": [
    {
     "name": "stderr",
     "output_type": "stream",
     "text": [
      "C:\\Users\\tream\\AppData\\Local\\Temp\\ipykernel_19288\\3410126717.py:12: FutureWarning: \n",
      "\n",
      "Passing `palette` without assigning `hue` is deprecated and will be removed in v0.14.0. Assign the `y` variable to `hue` and set `legend=False` for the same effect.\n",
      "\n",
      "  sns.barplot(x=corr_target.values, y=corr_target.index, palette='coolwarm')\n"
     ]
    },
    {
     "data": {
      "image/png": "[encoded data removed]",
      "text/plain": [
       "<Figure size 1000x600 with 1 Axes>"
      ]
     },
     "metadata": {},
     "output_type": "display_data"
    },
    {
     "name": "stdout",
     "output_type": "stream",
     "text": [
      "hours_studied         0.776751\n",
      "previous_scores       0.431105\n",
      "attendance_percent    0.225713\n",
      "sleep_hours           0.188222\n",
      "Name: exam_score, dtype: float64\n"
     ]
    }
   ],
   "source": [
    "import matplotlib.pyplot as plt\n",
    "import seaborn as sns\n",
    "\n",
    "# Menghitung matriks korelasi\n",
    "corr_matrix = df_model.corr()\n",
    "\n",
    "# Mengambil korelasi setiap fitur terhadap 'exam_score'\n",
    "corr_target = corr_matrix['exam_score'].drop('exam_score').sort_values(ascending=False)\n",
    "\n",
    "# Membuat visualisasi bar chart\n",
    "plt.figure(figsize=(10, 6))\n",
    "sns.barplot(x=corr_target.values, y=corr_target.index, palette='coolwarm')\n",
    "plt.title('Korelasi Setiap Fitur Terhadap Exam Score', fontsize=16)\n",
    "plt.xlabel('Koefisien Korelasi', fontsize=12)\n",
    "plt.ylabel('Fitur', fontsize=12)\n",
    "plt.show()\n",
    "\n",
    "print(corr_target)"
   ]
  },
  {
   "cell_type": "code",
   "execution_count": 4,
   "id": "4695779f",
   "metadata": {},
   "outputs": [
    {
     "name": "stdout",
     "output_type": "stream",
     "text": [
      "Ukuran data training (X_train): (160, 4)\n",
      "Ukuran data testing (X_test):  (40, 4)\n"
     ]
    }
   ],
   "source": [
    "from sklearn.model_selection import train_test_split\n",
    "\n",
    "# Memisahkan fitur (X) dan target (y)\n",
    "X = df_model.drop('exam_score', axis=1)\n",
    "y = df_model['exam_score']\n",
    "\n",
    "# Melakukan pembagian data 80/20\n",
    "X_train, X_test, y_train, y_test = train_test_split(X, y, test_size=0.2, random_state=42)\n",
    "\n",
    "print(f\"Ukuran data training (X_train): {X_train.shape}\")\n",
    "print(f\"Ukuran data testing (X_test):  {X_test.shape}\")"
   ]
  },
  {
   "cell_type": "code",
   "execution_count": 5,
   "id": "344a7a0e",
   "metadata": {},
   "outputs": [
    {
     "name": "stdout",
     "output_type": "stream",
     "text": [
      "Hasil untuk Linear Regression: MAE=2.31, RMSE=2.79, R2=0.8537\n",
      "Hasil untuk Ridge Regression: MAE=2.31, RMSE=2.79, R2=0.8538\n",
      "Hasil untuk Random Forest: MAE=2.95, RMSE=3.30, R2=0.7944\n",
      "Hasil untuk Gradient Boosting: MAE=2.92, RMSE=3.44, R2=0.7769\n"
     ]
    }
   ],
   "source": [
    "from sklearn.linear_model import LinearRegression, Ridge\n",
    "from sklearn.ensemble import RandomForestRegressor, GradientBoostingRegressor\n",
    "from sklearn.metrics import mean_absolute_error, mean_squared_error, r2_score\n",
    "from sklearn.preprocessing import StandardScaler\n",
    "from sklearn.pipeline import Pipeline\n",
    "\n",
    "# Mendefinisikan model-model yang akan diuji\n",
    "models = {\n",
    "    \"Linear Regression\": LinearRegression(),\n",
    "    \"Ridge Regression\": Ridge(),\n",
    "    \"Random Forest\": RandomForestRegressor(random_state=42),\n",
    "    \"Gradient Boosting\": GradientBoostingRegressor(random_state=42)\n",
    "}\n",
    "\n",
    "# Dictionary untuk menyimpan hasil\n",
    "results = {}\n",
    "\n",
    "# Looping untuk melatih dan mengevaluasi setiap model\n",
    "for name, model in models.items():\n",
    "    # Membuat pipeline yang menggabungkan scaling dan model\n",
    "    # Scaling penting untuk model linear, dan tidak berbahaya untuk model tree-based\n",
    "    pipeline = Pipeline([\n",
    "        ('scaler', StandardScaler()),\n",
    "        ('model', model)\n",
    "    ])\n",
    "    \n",
    "    # Melatih pipeline\n",
    "    pipeline.fit(X_train, y_train)\n",
    "    \n",
    "    # Membuat prediksi\n",
    "    y_pred = pipeline.predict(X_test)\n",
    "    \n",
    "    # Menghitung metrik evaluasi\n",
    "    mae = mean_absolute_error(y_test, y_pred)\n",
    "    rmse = np.sqrt(mean_squared_error(y_test, y_pred))\n",
    "    r2 = r2_score(y_test, y_pred)\n",
    "    \n",
    "    # Menyimpan hasil\n",
    "    results[name] = [mae, rmse, r2]\n",
    "    print(f\"Hasil untuk {name}: MAE={mae:.2f}, RMSE={rmse:.2f}, R2={r2:.4f}\")\n",
    "\n",
    "# Mengubah hasil menjadi DataFrame untuk perbandingan yang mudah\n",
    "results_df = pd.DataFrame(results, index=['MAE', 'RMSE', 'R-squared']).T"
   ]
  },
  {
   "cell_type": "code",
   "execution_count": 6,
   "id": "7a54ddff",
   "metadata": {},
   "outputs": [
    {
     "name": "stdout",
     "output_type": "stream",
     "text": [
      "\n",
      "--- Perbandingan Performa Model ---\n",
      "                        MAE      RMSE  R-squared\n",
      "Ridge Regression   2.312413  2.785791   0.853766\n",
      "Linear Regression  2.310858  2.785998   0.853745\n",
      "Random Forest      2.951225  3.303606   0.794351\n",
      "Gradient Boosting  2.915163  3.440562   0.776947\n"
     ]
    }
   ],
   "source": [
    "# Menampilkan tabel hasil perbandingan\n",
    "print(\"\\n--- Perbandingan Performa Model ---\")\n",
    "print(results_df.sort_values(by='RMSE', ascending=True))"
   ]
  },
  {
   "cell_type": "code",
   "execution_count": null,
   "id": "7d07900c",
   "metadata": {},
   "outputs": [],
   "source": []
  },
  {
   "cell_type": "code",
   "execution_count": null,
   "id": "0ea0e505",
   "metadata": {},
   "outputs": [],
   "source": []
  },
  {
   "cell_type": "code",
   "execution_count": null,
   "id": "49aba735",
   "metadata": {},
   "outputs": [],
   "source": []
  },
  {
   "cell_type": "code",
   "execution_count": null,
   "id": "9e2eb978",
   "metadata": {},
   "outputs": [],
   "source": []
  },
  {
   "cell_type": "code",
   "execution_count": null,
   "id": "5491155e",
   "metadata": {},
   "outputs": [],
   "source": []
  },
  {
   "cell_type": "code",
   "execution_count": null,
   "id": "f3ff2080",
   "metadata": {},
   "outputs": [],
   "source": []
  }
 ],
 "metadata": {
  "kernelspec": {
   "display_name": "Python 3",
   "language": "python",
   "name": "python3"
  },
  "language_info": {
   "codemirror_mode": {
    "name": "ipython",
    "version": 3
   },
   "file_extension": ".py",
   "mimetype": "text/x-python",
   "name": "python",
   "nbconvert_exporter": "python",
   "pygments_lexer": "ipython3",
   "version": "3.11.8"
  }
 },
 "nbformat": 4,
 "nbformat_minor": 5
}
