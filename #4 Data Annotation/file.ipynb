{
 "cells": [
  {
   "cell_type": "code",
   "execution_count": null,
   "id": "c49af869",
   "metadata": {},
   "outputs": [],
   "source": [
    "import pandas as pd\n",
    "import seaborn as sns\n",
    "import matplotlib.pyplot as plt\n",
    "from sklearn.datasets import load_iris\n",
    "from sklearn.metrics import classification_report, confusion_matrix\n",
    "\n",
    "iris = load_iris()\n",
    "df = pd.DataFrame(data=iris.data, columns=iris.feature_names)\n",
    "df['species_asli'] = pd.Categorical.from_codes(iris.target, iris.target_names)\n",
    "\n",
    "def label_sesuai_sop(row):\n",
    "    petal_length = row['petal length (cm)']\n",
    "    petal_width = row['petal width (cm)']\n",
    "    \n",
    "    if petal_length < 2.5 and petal_width < 0.8:\n",
    "        return 'setosa'\n",
    "    elif petal_length > 5.1 and petal_width > 1.8:\n",
    "        return 'virginica'\n",
    "    elif 3.0 <= petal_length <= 5.1:\n",
    "        return 'versicolor'\n",
    "    elif petal_length > 4.5:\n",
    "        return 'virginica'\n",
    "    else:\n",
    "        return 'versicolor'\n",
    "\n",
    "df['sop_label'] = df.apply(label_sesuai_sop, axis=1)\n",
    "\n",
    "print(\"Perbandingan Label Asli dengan Label Hasil SOP:\")\n",
    "print(df[['species_asli', 'sop_label']].head(10))\n",
    "print(\"\\nContoh data di mana label asli dan SOP mungkin berbeda:\")\n",
    "print(df[df['species_asli'] != df['sop_label']].head())"
   ]
  }
 ],
 "metadata": {
  "kernelspec": {
   "display_name": "Python 3",
   "language": "python",
   "name": "python3"
  },
  "language_info": {
   "name": "python",
   "version": "3.11.8"
  }
 },
 "nbformat": 4,
 "nbformat_minor": 5
}
