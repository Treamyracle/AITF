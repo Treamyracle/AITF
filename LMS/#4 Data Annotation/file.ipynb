{
 "cells": [
  {
   "cell_type": "code",
   "execution_count": 1,
   "id": "c49af869",
   "metadata": {},
   "outputs": [
    {
     "name": "stdout",
     "output_type": "stream",
     "text": [
      "Perbandingan Label Asli dengan Label Hasil SOP:\n",
      "  species_asli sop_label\n",
      "0       setosa    setosa\n",
      "1       setosa    setosa\n",
      "2       setosa    setosa\n",
      "3       setosa    setosa\n",
      "4       setosa    setosa\n",
      "5       setosa    setosa\n",
      "6       setosa    setosa\n",
      "7       setosa    setosa\n",
      "8       setosa    setosa\n",
      "9       setosa    setosa\n",
      "\n",
      "Contoh data di mana label asli dan SOP mungkin berbeda:\n",
      "     sepal length (cm)  sepal width (cm)  petal length (cm)  petal width (cm)  \\\n",
      "101                5.8               2.7                5.1               1.9   \n",
      "106                4.9               2.5                4.5               1.7   \n",
      "110                6.5               3.2                5.1               2.0   \n",
      "113                5.7               2.5                5.0               2.0   \n",
      "114                5.8               2.8                5.1               2.4   \n",
      "\n",
      "    species_asli   sop_label  \n",
      "101    virginica  versicolor  \n",
      "106    virginica  versicolor  \n",
      "110    virginica  versicolor  \n",
      "113    virginica  versicolor  \n",
      "114    virginica  versicolor  \n"
     ]
    }
   ],
   "source": [
    "import pandas as pd\n",
    "import seaborn as sns\n",
    "import matplotlib.pyplot as plt\n",
    "from sklearn.datasets import load_iris\n",
    "from sklearn.metrics import classification_report, confusion_matrix\n",
    "\n",
    "iris = load_iris()\n",
    "df = pd.DataFrame(data=iris.data, columns=iris.feature_names)\n",
    "df['species_asli'] = pd.Categorical.from_codes(iris.target, iris.target_names)\n",
    "\n",
    "def label_sesuai_sop(row):\n",
    "    petal_length = row['petal length (cm)']\n",
    "    petal_width = row['petal width (cm)']\n",
    "    \n",
    "    if petal_length < 2.5 and petal_width < 0.8:\n",
    "        return 'setosa'\n",
    "    elif petal_length > 5.1 and petal_width > 1.8:\n",
    "        return 'virginica'\n",
    "    elif 3.0 <= petal_length <= 5.1:\n",
    "        return 'versicolor'\n",
    "    elif petal_length > 4.5:\n",
    "        return 'virginica'\n",
    "    else:\n",
    "        return 'versicolor'\n",
    "\n",
    "df['sop_label'] = df.apply(label_sesuai_sop, axis=1)\n",
    "\n",
    "print(\"Perbandingan Label Asli dengan Label Hasil SOP:\")\n",
    "print(df[['species_asli', 'sop_label']].head(10))\n",
    "print(\"\\nContoh data di mana label asli dan SOP mungkin berbeda:\")\n",
    "print(df[df['species_asli'] != df['sop_label']].head())"
   ]
  }
 ],
 "metadata": {
  "kernelspec": {
   "display_name": "Python 3",
   "language": "python",
   "name": "python3"
  },
  "language_info": {
   "codemirror_mode": {
    "name": "ipython",
    "version": 3
   },
   "file_extension": ".py",
   "mimetype": "text/x-python",
   "name": "python",
   "nbconvert_exporter": "python",
   "pygments_lexer": "ipython3",
   "version": "3.11.8"
  }
 },
 "nbformat": 4,
 "nbformat_minor": 5
}
